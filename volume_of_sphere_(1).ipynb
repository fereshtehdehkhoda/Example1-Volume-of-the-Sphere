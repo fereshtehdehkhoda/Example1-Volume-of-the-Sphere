{
  "cells": [
    {
      "cell_type": "markdown",
      "metadata": {
        "id": "view-in-github",
        "colab_type": "text"
      },
      "source": [
        "<a href=\"https://colab.research.google.com/github/fereshtehdehkhoda/Example1-Volume-of-the-Sphere/blob/main/volume_of_sphere_(1).ipynb\" target=\"_parent\"><img src=\"https://colab.research.google.com/assets/colab-badge.svg\" alt=\"Open In Colab\"/></a>"
      ]
    },
    {
      "cell_type": "markdown",
      "id": "9969191c-d151-4f14-b807-e00b2628e51c",
      "metadata": {
        "id": "9969191c-d151-4f14-b807-e00b2628e51c"
      },
      "source": [
        "# Example1:\n",
        "## Calculate the volume of the sphere based on the radius"
      ]
    },
    {
      "cell_type": "code",
      "execution_count": null,
      "id": "16002900-409e-4f04-a617-9a6b4e06c676",
      "metadata": {
        "id": "16002900-409e-4f04-a617-9a6b4e06c676",
        "outputId": "80538b30-424f-49e9-91e3-b49cefd72f81"
      },
      "outputs": [
        {
          "name": "stdin",
          "output_type": "stream",
          "text": [
            "Please Enter the radius of sphere in cm: 4.87\n"
          ]
        },
        {
          "name": "stdout",
          "output_type": "stream",
          "text": [
            "Volume of the sphere is 483.57 cm.\n",
            "Volume of the sphere is 483.57 cm.\n"
          ]
        }
      ],
      "source": [
        "#محاسبه حجم کره بر اساس شعاع\n",
        "radius= float(input('Please Enter the radius of sphere in cm:'))\n",
        "volume=4/3*3.14*radius**3\n",
        "print(f'Volume of the sphere is {volume:0.2f} cm.') #or\n",
        "print('Volume of the sphere is {vol:0.2f} cm.'.format(vol=volume))"
      ]
    }
  ],
  "metadata": {
    "kernelspec": {
      "display_name": "Python 3 (ipykernel)",
      "language": "python",
      "name": "python3"
    },
    "language_info": {
      "codemirror_mode": {
        "name": "ipython",
        "version": 3
      },
      "file_extension": ".py",
      "mimetype": "text/x-python",
      "name": "python",
      "nbconvert_exporter": "python",
      "pygments_lexer": "ipython3",
      "version": "3.12.4"
    },
    "colab": {
      "provenance": [],
      "include_colab_link": true
    }
  },
  "nbformat": 4,
  "nbformat_minor": 5
}